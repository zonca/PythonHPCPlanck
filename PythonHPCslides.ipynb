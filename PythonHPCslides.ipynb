{
 "metadata": {
  "name": ""
 },
 "nbformat": 3,
 "nbformat_minor": 0,
 "worksheets": [
  {
   "cells": [
    {
     "cell_type": "heading",
     "level": 1,
     "metadata": {
      "slideshow": {
       "slide_type": "slide"
      }
     },
     "source": [
      "Python in High Performance Computing\n"
     ]
    },
    {
     "cell_type": "heading",
     "level": 2,
     "metadata": {},
     "source": [
      "Andrea Zonca, UCSB, 23 Sept 2013"
     ]
    },
    {
     "cell_type": "markdown",
     "metadata": {},
     "source": [
      "Slides in a single HTML page: [`Handout`](http://nbviewer.ipython.org/urls/raw.github.com/zonca/PythonHPCPlanck/master/PythonHPCslides.ipynb)"
     ]
    },
    {
     "cell_type": "heading",
     "level": 2,
     "metadata": {
      "slideshow": {
       "slide_type": "slide"
      }
     },
     "source": [
      "Topics"
     ]
    },
    {
     "cell_type": "markdown",
     "metadata": {},
     "source": [
      "How in *Planck* we solve 3 HPC computing tasks with Python:\n",
      "\n",
      "* Interactive computing: IPython notebook\n",
      "* Trivially parallel tasks: IPython parallel\n",
      "* Distributed linear algebra: PyTrilinos"
     ]
    },
    {
     "cell_type": "heading",
     "level": 2,
     "metadata": {
      "slideshow": {
       "slide_type": "slide"
      }
     },
     "source": [
      "Planck: Cosmic Microwave Background"
     ]
    },
    {
     "cell_type": "markdown",
     "metadata": {},
     "source": [
      "![](files/story_universe.jpg)"
     ]
    },
    {
     "cell_type": "heading",
     "level": 2,
     "metadata": {
      "slideshow": {
       "slide_type": "slide"
      }
     },
     "source": [
      "Planck: Detectors"
     ]
    },
    {
     "cell_type": "markdown",
     "metadata": {},
     "source": [
      "![](files/planck_fpu.jpg)"
     ]
    },
    {
     "cell_type": "heading",
     "level": 2,
     "metadata": {
      "slideshow": {
       "slide_type": "slide"
      }
     },
     "source": [
      "Planck: Data"
     ]
    },
    {
     "cell_type": "markdown",
     "metadata": {},
     "source": [
      "* 2 instruments: Low Frequency Instrument / High Frequency Instrument\n",
      "* 9 channels total, best LFI channel 800 MB/day, best HFI channel 1 GB/day\n",
      "* data storage: 1 FITS file / channel / day\n",
      "* ~2.5 years for High Frequency Instrument\n",
      "* 4 years for Low Frequency Instrument"
     ]
    },
    {
     "cell_type": "heading",
     "level": 2,
     "metadata": {
      "slideshow": {
       "slide_type": "slide"
      }
     },
     "source": [
      "Planck map"
     ]
    },
    {
     "cell_type": "markdown",
     "metadata": {},
     "source": [
      "![](files/planck_map.jpg)"
     ]
    },
    {
     "cell_type": "heading",
     "level": 2,
     "metadata": {
      "slideshow": {
       "slide_type": "slide"
      }
     },
     "source": [
      "Planck CMB"
     ]
    },
    {
     "cell_type": "markdown",
     "metadata": {},
     "source": [
      "![](files/planck_cmb.jpg)"
     ]
    },
    {
     "cell_type": "heading",
     "level": 2,
     "metadata": {
      "slideshow": {
       "slide_type": "slide"
      }
     },
     "source": [
      "First task: Interactive computing on HPC"
     ]
    },
    {
     "cell_type": "markdown",
     "metadata": {},
     "source": [
      "* Data is available on project space at NERSC\n",
      "* Allow scientists to connect remotely to a HPC cluster to interactively explore data: **command terminal** + **plotting**"
     ]
    },
    {
     "cell_type": "heading",
     "level": 2,
     "metadata": {
      "slideshow": {
       "slide_type": "slide"
      }
     },
     "source": [
      "Interactive computing on HPC"
     ]
    },
    {
     "cell_type": "markdown",
     "metadata": {},
     "source": [
      "Why interactive computing on a HPC cluster?\n",
      "\n",
      "* Direct access to huge datasets (several TB)\n",
      "* Datasets always updated\n",
      "* More CPU and RAM than typical laptop/desktop\n",
      "* Computing environment centralized maintenance\n",
      "* Same environment interactive/batch processing\n",
      "* Easy sharing within collaboration\n",
      "* Data security"
     ]
    },
    {
     "cell_type": "heading",
     "level": 2,
     "metadata": {
      "slideshow": {
       "slide_type": "slide"
      }
     },
     "source": [
      "Interactive computing in the Planck collaboration"
     ]
    },
    {
     "cell_type": "markdown",
     "metadata": {},
     "source": [
      "* ~50 scientists\n",
      "* Shared project space at NERSC\n",
      "* Synchronization of raw data and processed maps from the Italian and French Data Processing Centers\n",
      "* Overview of all steps of data analysis pipeline: timelines => maps => spectra => cosmological parameters\n",
      "* Dedicated permanent reservation on NERSC `carver`, 24hr interactive\n",
      "* Common computing environment (using `module`, I maintain the Python environment)"
     ]
    },
    {
     "cell_type": "heading",
     "level": 2,
     "metadata": {
      "slideshow": {
       "slide_type": "slide"
      }
     },
     "source": [
      "Using Python with IPython Notebook"
     ]
    },
    {
     "cell_type": "markdown",
     "metadata": {},
     "source": [
      "* Astrophysics is moving from proprietary IDL to Python\n",
      "* Now all tools available, mainly pixelized maps and spherical armonic transforms with `healpy`: <http://github.com/healpy/healpy> (I'm the main developer)\n",
      "* IPython Notebook is an interactive computing environment in the browser:\n",
      "    * code\n",
      "    * plots\n",
      "    * Markdown text\n",
      "    * Latex equations\n",
      "* See example notebook [`IPythonNotebookIntro.ipynb`](http://nbviewer.ipython.org/urls/raw.github.com/zonca/PythonHPCPlanck/master/IPythonNotebookIntro.ipynb)"
     ]
    },
    {
     "cell_type": "heading",
     "level": 2,
     "metadata": {
      "slideshow": {
       "slide_type": "slide"
      }
     },
     "source": [
      "IPython Notebook for interactive computing"
     ]
    },
    {
     "cell_type": "markdown",
     "metadata": {},
     "source": [
      "* Python kernel runs on a computing node\n",
      "* SSH Tunneled: computing node => login node => local machine (Linux/MAC/Win)\n",
      "* Browser runs locally (connected to localhost:PORT)\n",
      "* Plotting is way faster than `ssh -X`\n",
      "* Less resource-intensive than **NX**\n",
      "* Contact me for automatic configuration script"
     ]
    },
    {
     "cell_type": "heading",
     "level": 2,
     "metadata": {
      "slideshow": {
       "slide_type": "slide"
      }
     },
     "source": [
      "Second task: trivially parallel jobs"
     ]
    },
    {
     "cell_type": "markdown",
     "metadata": {},
     "source": [
      "Case study, apply Planck calibration Volts => Kelvin:\n",
      "\n",
      "* 0.9-1.1 TB of raw data per each of the 9 channels\n",
      "* split in ~1 GB files\n",
      "* independent jobs\n",
      "* read each file, multiply by gain factor, remove known signal, write output of same size\n",
      "* CPU-dominated"
     ]
    },
    {
     "cell_type": "heading",
     "level": 2,
     "metadata": {
      "slideshow": {
       "slide_type": "slide"
      }
     },
     "source": [
      "Trivially parallel jobs: requirements"
     ]
    },
    {
     "cell_type": "markdown",
     "metadata": {},
     "source": [
      "* re-use the serial code\n",
      "* small configuration overhead\n",
      "* flexibility to add or remove computing nodes\n",
      "* fault-tolerant"
     ]
    },
    {
     "cell_type": "heading",
     "level": 2,
     "metadata": {
      "slideshow": {
       "slide_type": "slide"
      }
     },
     "source": [
      "Trivially parallel tasks with IPython parallel"
     ]
    },
    {
     "cell_type": "markdown",
     "metadata": {},
     "source": [
      "* Submit function+arguments to a queue (managed by the `controller`) consumed by workers (`engines`)\n",
      "* function is *serial*, no IPython-specific, easy debugging\n",
      "* same function work serially, locally on multi-core, or on large cluster\n",
      "* re-runs failed jobs\n",
      "* add more processes to the pool\n"
     ]
    },
    {
     "cell_type": "heading",
     "level": 2,
     "metadata": {
      "slideshow": {
       "slide_type": "slide"
      }
     },
     "source": [
      "IPython parallel: Local example"
     ]
    },
    {
     "cell_type": "markdown",
     "metadata": {},
     "source": [
      "open IPython notebook `ipythonparallel.ipynb`\n"
     ]
    },
    {
     "cell_type": "heading",
     "level": 2,
     "metadata": {
      "slideshow": {
       "slide_type": "slide"
      }
     },
     "source": [
      "IPython parallel on a HPC cluster\n"
     ]
    },
    {
     "cell_type": "markdown",
     "metadata": {},
     "source": [
      "* Launch `ipcontroller` on the login node\n",
      "* Submit ipengine job to the queue management system (see documentation on how to build a pbs script)\n",
      "* Open IPython on the login node and submit jobs\n",
      "to the controller"
     ]
    },
    {
     "cell_type": "heading",
     "level": 2,
     "metadata": {
      "slideshow": {
       "slide_type": "slide"
      }
     },
     "source": [
      "Example run for Planck\n"
     ]
    },
    {
     "cell_type": "markdown",
     "metadata": {},
     "source": [
      "* 1.5TB of raw data in ~3000 FITS files\n",
      "* read files, simple processing and rewrite to disk\n",
      "* run IPython parallel with up to 500 engines\n",
      "* process the jobs in ~3 hours"
     ]
    },
    {
     "cell_type": "heading",
     "level": 2,
     "metadata": {
      "slideshow": {
       "slide_type": "slide"
      }
     },
     "source": [
      "Third task: Distributed linear algebra"
     ]
    },
    {
     "cell_type": "markdown",
     "metadata": {},
     "source": [
      "Case study, destriping Cosmic Microwave Background Survey data."
     ]
    },
    {
     "cell_type": "heading",
     "level": 2,
     "metadata": {
      "slideshow": {
       "slide_type": "slide"
      }
     },
     "source": [
      "Sky map affected by low frequency noise (Ground experiment simulation)"
     ]
    },
    {
     "cell_type": "markdown",
     "metadata": {},
     "source": [
      "![](files/binned-input_crop.jpg)"
     ]
    },
    {
     "cell_type": "heading",
     "level": 2,
     "metadata": {
      "slideshow": {
       "slide_type": "slide"
      }
     },
     "source": [
      "Sky map after destriping"
     ]
    },
    {
     "cell_type": "markdown",
     "metadata": {},
     "source": [
      "![](files/destriped-input_crop.jpg)"
     ]
    },
    {
     "cell_type": "heading",
     "level": 2,
     "metadata": {
      "slideshow": {
       "slide_type": "slide"
      }
     },
     "source": [
      "Destriping details"
     ]
    },
    {
     "cell_type": "markdown",
     "metadata": {},
     "source": [
      "* Similar effect to high pass filter\n",
      "* But does not impact the sky signal\n",
      "* Iterative estimate of the sky signal\n",
      "* Conjugate gradient iteration ~ 20-150 steps\n",
      "* Each step: `timelines =MPI=> sky map =MPI=> timelines`\n",
      "* Needs all timelines for a channel simultaneously in RAM ~1.5TB\n",
      "* I/O-Memory dominated"
     ]
    },
    {
     "cell_type": "heading",
     "level": 2,
     "metadata": {
      "slideshow": {
       "slide_type": "slide"
      }
     },
     "source": [
      "Distributed Linear Algebra\n"
     ]
    },
    {
     "cell_type": "markdown",
     "metadata": {},
     "source": [
      "Large complete C++ packages with Python support\n",
      "\n",
      "* PETSC, petsc4py\n",
      "* Trilinos, PyTrilinos\n",
      "\n",
      "Both use C++ for MPI communication and LAPACK/BLAS for computing\n",
      "\n",
      "Both subclass numpy arrays\n"
     ]
    },
    {
     "cell_type": "heading",
     "level": 2,
     "metadata": {
      "slideshow": {
       "slide_type": "slide"
      }
     },
     "source": [
      "Trilinos example\n"
     ]
    },
    {
     "cell_type": "code",
     "collapsed": false,
     "input": [
      "from PyTrilinos import Epetra\n",
      "# initialize MPI\n",
      "Comm  = Epetra.PyComm()"
     ],
     "language": "python",
     "metadata": {},
     "outputs": []
    },
    {
     "cell_type": "code",
     "collapsed": false,
     "input": [
      "NumElements = 10\n",
      "MapUnique = Epetra.Map(NumElements, 0, Comm)"
     ],
     "language": "python",
     "metadata": {},
     "outputs": []
    },
    {
     "cell_type": "code",
     "collapsed": false,
     "input": [
      "# Partially overlapping distribution\n",
      "LocalElements = { 0: [0, 1, 2, 3, 4, 8],\n",
      "                  1: [3, 4, 5, 6],\n",
      "                  2: [6, 7, 8, 9] \n",
      "                }\n",
      "MapOverl =  Epetra.Map(-1, LocalElements[Comm.MyPID()], 0, Comm)"
     ],
     "language": "python",
     "metadata": {
      "slideshow": {
       "slide_type": "fragment"
      }
     },
     "outputs": []
    },
    {
     "cell_type": "code",
     "collapsed": false,
     "input": [
      "# Importer from overlapping to unique\n",
      "Exporter = Epetra.Export(MapOverl, MapUnique)"
     ],
     "language": "python",
     "metadata": {
      "slideshow": {
       "slide_type": "fragment"
      }
     },
     "outputs": []
    },
    {
     "cell_type": "markdown",
     "metadata": {
      "slideshow": {
       "slide_type": "fragment"
      }
     },
     "source": [
      "Example Notebook: [`pytrilinos.ipynb`](http://nbviewer.ipython.org/urls/raw.github.com/zonca/PythonHPCPlanck/master/pytrilinos.ipynb)"
     ]
    },
    {
     "cell_type": "heading",
     "level": 2,
     "metadata": {
      "slideshow": {
       "slide_type": "slide"
      }
     },
     "source": [
      "Destriper implemented in PyTrilinos"
     ]
    },
    {
     "cell_type": "markdown",
     "metadata": {},
     "source": [
      "\"Destriping Cosmic Microwave Background Polarimeter data\", Zonca et al, Submitted to *Astronomy and Computing*\n",
      "\n",
      "`dst`: <http://github.com/zonca/dst>"
     ]
    },
    {
     "cell_type": "heading",
     "level": 2,
     "metadata": {
      "slideshow": {
       "slide_type": "slide"
      }
     },
     "source": [
      "Thanks, questions?"
     ]
    },
    {
     "cell_type": "markdown",
     "metadata": {},
     "source": [
      "* Andrea Zonca, **UCSB**\n",
      "* email zonca on deepspace.ucsb.edu\n",
      "* <http://zonca.github.io>\n",
      "* @andreazonca"
     ]
    }
   ],
   "metadata": {}
  }
 ]
}